{
 "cells": [
  {
   "cell_type": "markdown",
   "metadata": {},
   "source": [
    "# perfectns paper results\n",
    "\n",
    "This notebook contains the code used to make perfect nested sampling results and plots with `perfectns`. For more information see the dynamic nested sampling paper ([Higson et al., 2017](https://arxiv.org/abs/1704.03459)) and the [perfectns module](https://github.com/ejhigson/perfectns).\n",
    "\n",
    "The results tables needed to run this notebook are cached in the `perfectns_results` folder so it should not take very long to run. You can also calculate the nested sampling runs data yourself using `make_perfectns_runs.py`, although this is more computationally intensive. All the code use `numpy` random seeding by default so the results in the paper should be reproducible."
   ]
  },
  {
   "cell_type": "markdown",
   "metadata": {},
   "source": [
    "# Set everything up"
   ]
  },
  {
   "cell_type": "code",
   "execution_count": null,
   "metadata": {},
   "outputs": [],
   "source": [
    "import pandas as pd\n",
    "import matplotlib\n",
    "import matplotlib.pyplot as plt\n",
    "import numpy as np\n",
    "import perfectns.priors as priors\n",
    "import perfectns.likelihoods as likelihoods\n",
    "import perfectns.settings\n",
    "import perfectns.estimators as e\n",
    "import perfectns.plots\n",
    "import perfectns.results_tables\n",
    "import nestcheck.diagnostics_tables\n",
    "import nestcheck.pandas_functions\n",
    "import nestcheck.parallel_utils\n",
    "%matplotlib inline\n",
    "\n",
    "# Set plot size, font and fontsize to match LaTeX template\n",
    "# --------------------------------------------------------\n",
    "# NB A4 paper is 8.27 × 11.69 inches (=210 × 297 mm)\n",
    "# Font (=caption font): \\OT1/ptm/m/n/10 (= times size 10)\n",
    "# Footnote font: \\OT1/cmr/m/n/10\n",
    "# Abstract font: \\OT1/cmr/m/n/10.95\n",
    "fontsize = 8.5  # matplotlib default is 10\n",
    "textwidth = 6.85066 * 0.99  # make 1% smaller to ensure everything fits\n",
    "textheight = 9.2144 * 0.99  # make 1% smaller to ensure everything fits\n",
    "colwidth = 3.30719\n",
    "matplotlib.rc('text', usetex=True)\n",
    "matplotlib.rc('font', family='serif', serif='Times New Roman', size=fontsize)\n",
    "\n",
    "# Get estimator functions\n",
    "# -----------------------\n",
    "\n",
    "# Estimators for running results\n",
    "estimator_list = [e.LogZ(),\n",
    "                  e.ParamMean(),\n",
    "                  e.ParamSquaredMean(),\n",
    "                  e.ParamCred(0.5),\n",
    "                  e.ParamCred(0.84),\n",
    "                  e.RMean(),\n",
    "                  e.RCred(0.5),\n",
    "                  e.RCred(0.84)]\n",
    "# Estimator names for plotting\n",
    "ests_to_plot_objects = [e.LogZ(),\n",
    "                        e.ParamMean(),\n",
    "                        e.ParamCred(0.5),\n",
    "                        e.ParamCred(0.84),\n",
    "                        e.RMean(),\n",
    "                        e.RCred(0.5)]\n",
    "ests_to_plot = [est.latex_name for est in ests_to_plot_objects]\n",
    "latex_str_map = {'mathrm{log}': 'log',\n",
    "                 'std': 'St.Dev.\\\\',\n",
    "                 'St.Dev. ': 'St.Dev.\\\\ ',\n",
    "                 'None': ''}"
   ]
  },
  {
   "cell_type": "markdown",
   "metadata": {},
   "source": [
    "# Plot analytic relative posterior mass in log X"
   ]
  },
  {
   "cell_type": "code",
   "execution_count": null,
   "metadata": {},
   "outputs": [],
   "source": [
    "logx = np.linspace(-35, 0, 200)\n",
    "dim_list = [2, 10]\n",
    "prior = perfectns.priors.Gaussian(10)\n",
    "# Gaussian and Exp Power\n",
    "likelihoods_list = [perfectns.likelihoods.Gaussian(1),\n",
    "                    perfectns.likelihoods.ExpPower(1, 2),\n",
    "                    perfectns.likelihoods.ExpPower(1, 0.75)]\n",
    "fig = perfectns.plots.plot_rel_posterior_mass(likelihoods_list, prior, dim_list, logx, figsize=(textwidth, 2))\n",
    "# adjust manually as matplotlib autorescaling is not working well here\n",
    "fig.subplots_adjust(left=0.05, right=0.99, bottom=0.21, top=0.99)\n",
    "fig.savefig('plots/an_weights_3like.pdf')  #, bbox_inches='tight', pad_inches=0)\n",
    "# Gaussian and Cauchy\n",
    "likelihoods_list = [perfectns.likelihoods.Gaussian(1),\n",
    "                    perfectns.likelihoods.Cauchy(1)]\n",
    "# adjust manually as matplotlib autorescaling is not working well here\n",
    "fig = perfectns.plots.plot_rel_posterior_mass(likelihoods_list, prior, dim_list, logx, figsize=(textwidth, 2))\n",
    "fig.subplots_adjust(left=0.05, right=0.99, bottom=0.21, top=0.99)\n",
    "fig.savefig('plots/an_weights_2like.pdf') #, bbox_inches='tight', pad_inches=0)"
   ]
  },
  {
   "cell_type": "markdown",
   "metadata": {},
   "source": [
    "# Plot nlive as a function of log X"
   ]
  },
  {
   "cell_type": "code",
   "execution_count": null,
   "metadata": {},
   "outputs": [],
   "source": [
    "nlive_settings = perfectns.settings.PerfectNSSettings()\n",
    "nlive_settings.n_dim = 10\n",
    "nlive_settings.prior = priors.Gaussian(10)\n",
    "nlive_settings.ninit = 50\n",
    "nlive_settings.nlive_const = 500\n",
    "# Gaussian\n",
    "# --------\n",
    "nlive_settings.likelihood = likelihoods.Gaussian(1)\n",
    "fig = perfectns.plots.plot_dynamic_nlive([None, 0, 0.25, 1], nlive_settings,\n",
    "                                         ymax=3000, logx_min=-35, save=False, load=False,\n",
    "                                         figsize=(textwidth, 2.2))\n",
    "# adjust manually as matplotlib autorescaling is not working well here\n",
    "fig.subplots_adjust(left=0.085, right=0.99, bottom=0.185, top=0.975)\n",
    "fig.savefig('plots/nlive_gaussian.pdf')\n",
    "# Exp Power b=2\n",
    "# -------------\n",
    "nlive_settings.likelihood = likelihoods.ExpPower(1, power=2)\n",
    "fig = perfectns.plots.plot_dynamic_nlive([None, 0, 0.25, 1], nlive_settings,\n",
    "                                         ymax=5000, logx_min=-40, save=False, load=False,\n",
    "                                         figsize=(textwidth, 2.2))\n",
    "# adjust manually as matplotlib autorescaling is not working well here\n",
    "fig.subplots_adjust(left=0.085, right=0.99, bottom=0.185, top=0.975)\n",
    "fig.savefig('plots/nlive_exp_power_2.pdf')\n",
    "# Exp Power b=3/4\n",
    "# ---------------\n",
    "nlive_settings.likelihood = likelihoods.ExpPower(1, power=0.75)\n",
    "fig = perfectns.plots.plot_dynamic_nlive([None, 0, 0.25, 1], nlive_settings,\n",
    "                                         ymax=2500, logx_min=-30, save=False, load=False,\n",
    "                                         figsize=(textwidth, 2.2))\n",
    "# adjust manually as matplotlib autorescaling is not working well here\n",
    "fig.subplots_adjust(left=0.085, right=0.99, bottom=0.185, top=0.975)\n",
    "fig.savefig('plots/nlive_exp_power_0_75.pdf')\n",
    "# Cacuhy with tuned param\n",
    "# -----------------------\n",
    "nlive_settings.likelihood = likelihoods.Cauchy(1)\n",
    "fig = perfectns.plots.plot_dynamic_nlive([None, 0, 1, 1], nlive_settings,\n",
    "                               ymax=2000, logx_min=-40, save=False, load=False,\n",
    "                               tuned_dynamic_ps=[False, False, False, True],\n",
    "                               figsize=(textwidth, 2.2))\n",
    "# adjust manually as matplotlib autorescaling is not working well here\n",
    "fig.subplots_adjust(left=0.085, right=0.99, bottom=0.185, top=0.975)\n",
    "fig.savefig('plots/nlive_cauchy_tuned.pdf')"
   ]
  },
  {
   "cell_type": "markdown",
   "metadata": {},
   "source": [
    "# Dynamic results tables\n",
    "\n",
    "This cell produces the results tables showing the efficiency gain from dynamic nested sampling as `pandas` DataFrames. It returns two lists: dynamic_results_list has full results (including mean values for each estimator), and paper_format_df_list contains the results tables shown in the paper.\n",
    "\n",
    "Optionally, you can install `texunc` ([https://github.com/ejhigson/texunc](https://github.com/ejhigson/texunc)) to print the data in the LaTeX format used in the paper."
   ]
  },
  {
   "cell_type": "code",
   "execution_count": null,
   "metadata": {},
   "outputs": [],
   "source": [
    "tab_settings = perfectns.settings.PerfectNSSettings()\n",
    "tab_settings.ninit = 50\n",
    "tab_settings.nlive_const = 500\n",
    "tab_settings.prior = priors.Gaussian(prior_scale=10)\n",
    "tab_settings.n_dim = 10\n",
    "\n",
    "dynamic_results_list = []\n",
    "paper_format_df_list = []\n",
    "# Gaussian and exp power results\n",
    "# ------------------------------\n",
    "for likelihood in [likelihoods.Gaussian(1), likelihoods.ExpPower(1, 2), likelihoods.ExpPower(1, 0.75)]:\n",
    "    tab_settings.likelihood = likelihood\n",
    "    print(type(likelihood).__name__, likelihood.__dict__)\n",
    "    dynamic_results_list.append(perfectns.results_tables.get_dynamic_results(\n",
    "        5000, [0, 0.25, 1], estimator_list, tab_settings, save=True, load=True, cache_dir='perfectns_results'))\n",
    "    paper_format_df_list.append(nestcheck.pandas_functions.paper_format_efficiency_gain_df(\n",
    "        dynamic_results_list[-1][['samples'] + ests_to_plot]))\n",
    "    try:\n",
    "        import texunc\n",
    "        texunc.print_latex_df(paper_format_df_list[-1], min_dp=1, str_map=latex_str_map)\n",
    "    except ImportError:\n",
    "        print('Install texunc to get the results tables in the format used in the paper LaTeX file.')\n",
    "# Cauchy results (with tuning)\n",
    "# ----------------------------\n",
    "tab_settings.likelihood = likelihoods.Cauchy(1)\n",
    "dynamic_results_list.append(perfectns.results_tables.get_dynamic_results(\n",
    "    1000, [0, 1, 1], estimator_list, tab_settings, save=True, load=True, cache_dir='perfectns_results',\n",
    "    tuned_dynamic_ps=[False, False, True]))\n",
    "ests_to_plot_cauchy = [est.replace(e.ParamCred(0.5).latex_name, e.ParamSquaredMean().latex_name)\n",
    "                       for est in ests_to_plot]\n",
    "paper_format_df_list.append(nestcheck.pandas_functions.paper_format_efficiency_gain_df(\n",
    "    dynamic_results_list[-1][['samples'] + ests_to_plot_cauchy]))\n",
    "try:\n",
    "    import texunc\n",
    "    texunc.print_latex_df(paper_format_df_list[-1], min_dp=1, str_map=latex_str_map)\n",
    "except ImportError:\n",
    "    print('Install texunc to get the results tables in the format used in the paper LaTeX file.')"
   ]
  },
  {
   "cell_type": "markdown",
   "metadata": {},
   "source": [
    "# Dynamic results KDE plot"
   ]
  },
  {
   "cell_type": "code",
   "execution_count": null,
   "metadata": {},
   "outputs": [],
   "source": [
    "import os\n",
    "import perfectns.nested_sampling\n",
    "\n",
    "kde_settings = perfectns.settings.PerfectNSSettings()\n",
    "kde_settings.ninit = 50\n",
    "kde_settings.nlive_const = 500\n",
    "kde_settings.likelihood = likelihoods.Gaussian(likelihood_scale=1)\n",
    "kde_settings.prior = priors.Gaussian(prior_scale=10)\n",
    "kde_settings.n_dim = 10\n",
    "# load runs and get results values\n",
    "values_dict = {}\n",
    "samp_max = {}\n",
    "n_run = 5000\n",
    "dynamic_goals = [None, 0, 0.25, 1]\n",
    "keys = []\n",
    "cache_dir = 'perfectns_results'\n",
    "for dynamic_goal in dynamic_goals:\n",
    "    kde_settings.dynamic_goal = dynamic_goal\n",
    "    save_name = os.path.join(cache_dir, 'values_' + kde_settings.save_name()) + '_{}reps'.format(n_run)\n",
    "    try:\n",
    "        # Try loading cached values dataframe without generating runs\n",
    "        values_df = nestcheck.diagnostics_tables.estimator_values_df(\n",
    "            None, estimator_list, save_name=save_name, save=True, load=True)\n",
    "    except TypeError:\n",
    "        # If the values df is not cached, recalculate it\n",
    "        print(('dynamic_goal={}: I could not load the cached values DataFrame so am generating new data.'\n",
    "               .format(dynamic_goal)))\n",
    "        # To load the same runs used for efficiency gain tables, note that the dynamic ones\n",
    "        # use a max number of samples determined by the standard ones and have \"_sampmax\"\n",
    "        # appended to their file names. To load these we\n",
    "        # need to set settings.n_samples_max to not None and tell get_run_data not to check\n",
    "        # it is the exact right value\n",
    "        if dynamic_goal is not None:\n",
    "            kde_settings.n_samples_max = 1  # comment this out if you are generating new runs rather than loading!\n",
    "        run_list = perfectns.nested_sampling.get_run_data(\n",
    "            kde_settings, n_run, cache_dir=cache_dir, check_loaded_settings=False, load=True, save=True)\n",
    "        values_df = nestcheck.diagnostics_tables.estimator_values_df(\n",
    "            run_list, estimator_list, save_name=save_name, save=True, load=True)\n",
    "    if dynamic_goal is None:\n",
    "        key = 'standard'\n",
    "    else:\n",
    "        key = '$G=' + str(dynamic_goal) + '$'\n",
    "    keys.append(key)\n",
    "    values_dict[key] = values_df\n",
    "# Plot KDE\n",
    "kde_df = pd.DataFrame(index=keys)\n",
    "for i, est in enumerate(estimator_list):\n",
    "    kde_df[est.latex_name] = [values_dict[dg].values[:, i] for dg in keys]\n",
    "kde_df"
   ]
  },
  {
   "cell_type": "code",
   "execution_count": null,
   "metadata": {},
   "outputs": [],
   "source": [
    "import nestcheck.plots\n",
    "kde_ests = [e.LogZ(), e.ParamMean(), e.ParamCred(0.84), e.RCred(0.5)]\n",
    "kde_ests = ests_to_plot_objects\n",
    "true_values = e.get_true_estimator_values(kde_ests, kde_settings)\n",
    "for i, val in enumerate(true_values):\n",
    "    if np.isnan(val):\n",
    "        true_values[i] = np.mean(np.stack(kde_df[kde_ests[i].latex_name].values))\n",
    "widths = [0.75, 0.06, 0.07, 0.1, 0.09, 0.10]\n",
    "xlims = {}\n",
    "for i, est in enumerate(kde_ests):\n",
    "    xlims[est.latex_name] = [true_values[i] - widths[i], true_values[i] + widths[i]]\n",
    "fig = nestcheck.plots.kde_plot_df(kde_df[ests_to_plot], xlims=xlims,\n",
    "                                  figsize=(textwidth, 2.5), nrows=2, legend=True,\n",
    "                                  legend_kwargs={'loc': 'right', 'bbox_to_anchor': (1, 0.6)})\n",
    "for i, ax in enumerate(fig.axes):\n",
    "    ax.axvline(true_values[i], color='black', linestyle=':')\n",
    "fig.subplots_adjust(hspace=0.6, left=0.02, right=0.83, bottom=0.17, top=0.99)\n",
    "fig.savefig('plots/gaussian_dynamic_results_kde.pdf')"
   ]
  },
  {
   "cell_type": "markdown",
   "metadata": {},
   "source": [
    "# Efficiency Gain Line Plots"
   ]
  },
  {
   "cell_type": "code",
   "execution_count": null,
   "metadata": {},
   "outputs": [],
   "source": [
    "dim_scale_list = []\n",
    "dim_scale_list += [(2, s) for s in [0.1, 0.2, 0.5, 1, 2, 5, 10, 20, 50, 100]]\n",
    "dim_scale_list += [(d, 10) for d in [2, 5, 10, 20, 50, 100, 200, 500, 1000]]\n",
    "results_in = perfectns.results_tables.merged_dynamic_results(\n",
    "    dim_scale_list,\n",
    "    [likelihoods.Gaussian(1), likelihoods.ExpPower(1, 2), likelihoods.ExpPower(1, 0.75)],\n",
    "    perfectns.settings.PerfectNSSettings(nlive_const=200, ninit=20),\n",
    "    estimator_list, cache_dir='perfectns_results',\n",
    "    load=True, save=True)\n",
    "results_in = results_in.xs('std efficiency gain', level='calculation type')\n",
    "results_in"
   ]
  },
  {
   "cell_type": "code",
   "execution_count": null,
   "metadata": {},
   "outputs": [],
   "source": [
    "likelihood_names = [list(set(results_in.index.get_level_values('likelihood')))[i] for i in [0, 1, 2]]\n",
    "# Gain vs dimension\n",
    "# -----------------\n",
    "ymax = {'Exp Power, $b=2$': 80, 'Exp Power, $b=\\\\frac{3}{4}$': 10}  # upper limits of y axis \n",
    "fig, axes = plt.subplots(nrows=3, ncols=1, figsize=(textwidth, 5))\n",
    "fig.subplots_adjust(hspace=0) \n",
    "results = results_in.xs(10, level=r'$\\sigma_\\pi$')\n",
    "for i, likelihood in enumerate(likelihood_names):\n",
    "    df = results.xs(likelihood, level='likelihood')\n",
    "    ax = axes[i]\n",
    "    ax.set_title(likelihood.replace(',', ' '), y=0.7)\n",
    "    for col in ests_to_plot:\n",
    "        if col == e.LogZ().latex_name:\n",
    "            dyn_set = '$G=0$'\n",
    "        else:\n",
    "            dyn_set = '$G=1$'\n",
    "        ser = df.xs('dynamic ' + dyn_set, level='dynamic settings')[col]\n",
    "        ser = ser.sort_index()\n",
    "        ser.xs('value', level='result type').plot.line(\n",
    "            label=dyn_set + ': ' + col,\n",
    "            yerr=ser.xs('uncertainty', level='result type'), ax=ax)\n",
    "    if i == 0:\n",
    "        ax.legend(ncol=3, bbox_to_anchor=(0.5, 1), loc='lower center')\n",
    "    # make sure the labels of plots above and below each other don't clash\n",
    "    try:\n",
    "        ax.set_ylim([0, ymax[likelihood]])\n",
    "    except KeyError:\n",
    "        ax.set_ylim([0, ax.get_yticks()[-1]])\n",
    "    if i != 0:\n",
    "        labels = ax.get_yticks().tolist()\n",
    "        ax.set_yticks(labels[:-1])\n",
    "    ax.tick_params(top=True, direction='inout')\n",
    "    ax.yaxis.set_ticks_position('both')\n",
    "    ax.set_xscale('log')\n",
    "    ax.set_ylim(bottom=0)\n",
    "    ax.set_xlim(left=1)\n",
    "    if i != 2:\n",
    "        ax.set_xticklabels([])\n",
    "    ax.set_ylabel('efficiency gain')\n",
    "savename = ('plots/eff_gain_dim.pdf')\n",
    "fig.savefig(savename, bbox_inches='tight', pad_inches=0)"
   ]
  },
  {
   "cell_type": "code",
   "execution_count": null,
   "metadata": {},
   "outputs": [],
   "source": [
    "# Gain vs prior_scale\n",
    "# -------------------\n",
    "results = results_in.xs(2, level=r'dimension $d$')\n",
    "results = results[[e.LogZ().latex_name, e.ParamMean().latex_name]]\n",
    "fig = plt.figure(figsize=(textwidth, 2))\n",
    "ax = plt.gca()\n",
    "for col in results.columns:\n",
    "    if col == e.LogZ().latex_name:\n",
    "        dyn_set = '$G=0$'\n",
    "        linestyle = '-'\n",
    "    else:\n",
    "        dyn_set = '$G=1$'\n",
    "        linestyle = '--'\n",
    "    for likelihood in likelihood_names:\n",
    "        df = results.xs(likelihood, level='likelihood')\n",
    "        ser = df.xs('dynamic ' + dyn_set, level='dynamic settings')[col]\n",
    "        ser = ser.sort_index()\n",
    "        ser.xs('value', level='result type').plot.line(\n",
    "               label=likelihood + ', ' + dyn_set + ': ' + col,\n",
    "               yerr=ser.xs('uncertainty', level='result type'), linestyle=linestyle)\n",
    "ax.legend(ncol=2, bbox_to_anchor=(0.5, 1), loc='lower center')\n",
    "ax.set_xscale('log')\n",
    "ax.tick_params(top=True, direction='inout')\n",
    "ax.yaxis.set_ticks_position('both')\n",
    "ax.set_ylim(bottom=0)\n",
    "# ax.set_xlim(left=1)\n",
    "ax.set_ylabel('efficiency gain')\n",
    "savename = ('plots/eff_gain_prior_scale.pdf')\n",
    "fig.savefig(savename, bbox_inches='tight', pad_inches=0)"
   ]
  },
  {
   "cell_type": "code",
   "execution_count": null,
   "metadata": {},
   "outputs": [],
   "source": [
    "# see 1000d results\n",
    "results_in.xs(1000, level=r'dimension $d$')"
   ]
  },
  {
   "cell_type": "markdown",
   "metadata": {},
   "source": [
    "# Bootstrap results table"
   ]
  },
  {
   "cell_type": "code",
   "execution_count": null,
   "metadata": {},
   "outputs": [],
   "source": [
    "bs_settings = perfectns.settings.PerfectNSSettings()\n",
    "bs_settings.likelihood = likelihoods.Gaussian(likelihood_scale=1)\n",
    "bs_settings.prior = priors.Gaussian(prior_scale=10)\n",
    "bs_settings.n_dim = 3\n",
    "bs_settings.nlive_const = 200\n",
    "bs_settings.ninit = 20\n",
    "bs_settings.dynamic_goal = 1\n",
    "bs_settings.dims_to_sample = bs_settings.n_dim\n",
    "estimator_list_bs = [e.LogZ(),\n",
    "                     e.ParamMean(),\n",
    "                     e.ParamSquaredMean(),\n",
    "                     e.ParamCred(0.5),\n",
    "                     e.ParamCred(0.84),\n",
    "                     e.RMean(from_theta=True),\n",
    "                     e.RCred(0.5, from_theta=True),\n",
    "                     e.RCred(0.84, from_theta=True)]\n",
    "bootstrap_results_table = perfectns.results_tables.get_bootstrap_results(5000, 200,\n",
    "                                                   estimator_list_bs, bs_settings,\n",
    "                                                   n_run_ci=500,\n",
    "                                                   n_simulate_ci=1000,\n",
    "                                                   add_sim_method=False,\n",
    "                                                   cred_int=0.95,\n",
    "                                                   ninit_sep=True,\n",
    "                                                   parallel=True,\n",
    "                                                   cache_dir='perfectns_results',\n",
    "                                                   save=True, load=True)\n",
    "try:\n",
    "    import texunc\n",
    "    texunc.print_latex_df(bootstrap_results_table[ests_to_plot], min_dp_no_error=1, str_map=latex_str_map)\n",
    "except ImportError:\n",
    "    print('Install texunc to get the results tables in the format used in the paper LaTeX file.')\n",
    "bootstrap_results_table[ests_to_plot]"
   ]
  }
 ],
 "metadata": {
  "kernelspec": {
   "display_name": "Python 3",
   "language": "python",
   "name": "python3"
  },
  "language_info": {
   "codemirror_mode": {
    "name": "ipython",
    "version": 3
   },
   "file_extension": ".py",
   "mimetype": "text/x-python",
   "name": "python",
   "nbconvert_exporter": "python",
   "pygments_lexer": "ipython3",
   "version": "3.6.5"
  },
  "widgets": {
   "state": {
    "0c6619aceb594a2a9ce6894d1b2eb7c5": {
     "views": [
      {
       "cell_index": 9
      }
     ]
    },
    "13524b38670045d69c1fba50c27cf21a": {
     "views": [
      {
       "cell_index": 9
      }
     ]
    },
    "1534f810bd4b4bb4a26011fdb3b3b293": {
     "views": [
      {
       "cell_index": 9
      }
     ]
    },
    "1d67c56b3d4f4293a8fc290a873f1bea": {
     "views": [
      {
       "cell_index": 9
      }
     ]
    },
    "1ee60af4fa524f5c9c53729b8d957128": {
     "views": [
      {
       "cell_index": 9
      }
     ]
    },
    "22d5cce273164ca186d3cfc0e113eec3": {
     "views": [
      {
       "cell_index": 9
      }
     ]
    },
    "274acfe2801d44a1878bb311a70b05fc": {
     "views": [
      {
       "cell_index": 9
      }
     ]
    },
    "335abc03bb454d77bb55302f38fe26b6": {
     "views": [
      {
       "cell_index": 9
      }
     ]
    },
    "35167ca7acf74085b364b133a3dcfa7f": {
     "views": [
      {
       "cell_index": 9
      }
     ]
    },
    "37b85d79f7f6478c825346e072c86252": {
     "views": [
      {
       "cell_index": 9
      }
     ]
    },
    "3c221efc5f8b463e9d85d5725a75f150": {
     "views": [
      {
       "cell_index": 9
      }
     ]
    },
    "41ab4a61f78741bbbaba7db1035024a5": {
     "views": [
      {
       "cell_index": 9
      }
     ]
    },
    "4d8bca8f20824b33ba312a4a52038e03": {
     "views": [
      {
       "cell_index": 9
      }
     ]
    },
    "4fac4b56861449ed908c3bfa23d7df53": {
     "views": [
      {
       "cell_index": 9
      }
     ]
    },
    "51877eb344eb4821bfc1508b3f1b420c": {
     "views": [
      {
       "cell_index": 9
      }
     ]
    },
    "55a164b8a562486881bbcff0b72fcb7f": {
     "views": [
      {
       "cell_index": 9
      }
     ]
    },
    "5cb3bee383304f739b3184a0389e6f24": {
     "views": [
      {
       "cell_index": 9
      }
     ]
    },
    "66be96e10d624837bd36676ee8d08ed2": {
     "views": [
      {
       "cell_index": 9
      }
     ]
    },
    "66d6b493e98540ad835a9c40ff704d1a": {
     "views": [
      {
       "cell_index": 9
      }
     ]
    },
    "6e427357a79e4f9abdb5aa4be846125f": {
     "views": [
      {
       "cell_index": 9
      }
     ]
    },
    "746490f5202b4ea4a78ae83ce760c8f0": {
     "views": [
      {
       "cell_index": 9
      }
     ]
    },
    "7b12e8772383445f9d121648d1382f47": {
     "views": [
      {
       "cell_index": 9
      }
     ]
    },
    "81db3de8479640c39b50b3346e94a8d6": {
     "views": [
      {
       "cell_index": 9
      }
     ]
    },
    "82f8a3cb91594e189a04a3c12322ad38": {
     "views": [
      {
       "cell_index": 9
      }
     ]
    },
    "8f0716dea5f946cc954af1d52b5a430c": {
     "views": [
      {
       "cell_index": 9
      }
     ]
    },
    "935fb82210b84afb95cc63f609d0b629": {
     "views": [
      {
       "cell_index": 9
      }
     ]
    },
    "94138f4df6c040b886409ea0b3ae6572": {
     "views": [
      {
       "cell_index": 9
      }
     ]
    },
    "963334eb6610428398e0a327b24f5d0a": {
     "views": [
      {
       "cell_index": 9
      }
     ]
    },
    "9a4296bb47714c6b88ac03f652c47d29": {
     "views": [
      {
       "cell_index": 9
      }
     ]
    },
    "a6c4229b4b224fa5b5cf30d62741c3bd": {
     "views": [
      {
       "cell_index": 9
      }
     ]
    },
    "a8734651d7b34970852f4ea3894683b8": {
     "views": [
      {
       "cell_index": 9
      }
     ]
    },
    "ae962c437e7548c3b9ecd0a17592cff8": {
     "views": [
      {
       "cell_index": 9
      }
     ]
    },
    "bfda28a4cb2a462e9d67ab46460404d1": {
     "views": [
      {
       "cell_index": 9
      }
     ]
    },
    "c39a365b91c3474cad6a7309998a75a6": {
     "views": [
      {
       "cell_index": 9
      }
     ]
    },
    "cbf500a155aa4d81b46a724241de164b": {
     "views": [
      {
       "cell_index": 9
      }
     ]
    },
    "d769bd8f987542c4ba32bc1019d4ed6a": {
     "views": [
      {
       "cell_index": 9
      }
     ]
    },
    "e980186a628d495da3bb208b60390002": {
     "views": [
      {
       "cell_index": 9
      }
     ]
    },
    "f114058810cf4dcca9ba38ccd9e08639": {
     "views": [
      {
       "cell_index": 9
      }
     ]
    },
    "f3de793050a144bc90475cd6b8ca6c84": {
     "views": [
      {
       "cell_index": 9
      }
     ]
    }
   },
   "version": "1.2.0"
  }
 },
 "nbformat": 4,
 "nbformat_minor": 2
}
